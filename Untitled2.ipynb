{
  "nbformat": 4,
  "nbformat_minor": 0,
  "metadata": {
    "colab": {
      "provenance": [],
      "authorship_tag": "ABX9TyOu82sx0dkZEOqm6+eFMwoO",
      "include_colab_link": true
    },
    "kernelspec": {
      "name": "python3",
      "display_name": "Python 3"
    },
    "language_info": {
      "name": "python"
    }
  },
  "cells": [
    {
      "cell_type": "markdown",
      "metadata": {
        "id": "view-in-github",
        "colab_type": "text"
      },
      "source": [
        "<a href=\"https://colab.research.google.com/github/Phyton25/Phyton-25/blob/main/Untitled2.ipynb\" target=\"_parent\"><img src=\"https://colab.research.google.com/assets/colab-badge.svg\" alt=\"Open In Colab\"/></a>"
      ]
    },
    {
      "cell_type": "code",
      "execution_count": null,
      "metadata": {
        "id": "NbpgA_jFQ81D"
      },
      "outputs": [],
      "source": []
    },
    {
      "cell_type": "markdown",
      "source": [
        "Atividade 1"
      ],
      "metadata": {
        "id": "r5K75657RDJG"
      }
    },
    {
      "cell_type": "code",
      "source": [
        "for contador in range(1, 101):\n",
        "  print(contador)"
      ],
      "metadata": {
        "colab": {
          "base_uri": "https://localhost:8080/"
        },
        "id": "r_U5GrhxRJRs",
        "outputId": "10bd7684-5227-4552-f5b5-acc6f3027a65"
      },
      "execution_count": null,
      "outputs": [
        {
          "output_type": "stream",
          "name": "stdout",
          "text": [
            "1\n",
            "2\n",
            "3\n",
            "4\n",
            "5\n",
            "6\n",
            "7\n",
            "8\n",
            "9\n",
            "10\n",
            "11\n",
            "12\n",
            "13\n",
            "14\n",
            "15\n",
            "16\n",
            "17\n",
            "18\n",
            "19\n",
            "20\n",
            "21\n",
            "22\n",
            "23\n",
            "24\n",
            "25\n",
            "26\n",
            "27\n",
            "28\n",
            "29\n",
            "30\n",
            "31\n",
            "32\n",
            "33\n",
            "34\n",
            "35\n",
            "36\n",
            "37\n",
            "38\n",
            "39\n",
            "40\n",
            "41\n",
            "42\n",
            "43\n",
            "44\n",
            "45\n",
            "46\n",
            "47\n",
            "48\n",
            "49\n",
            "50\n",
            "51\n",
            "52\n",
            "53\n",
            "54\n",
            "55\n",
            "56\n",
            "57\n",
            "58\n",
            "59\n",
            "60\n",
            "61\n",
            "62\n",
            "63\n",
            "64\n",
            "65\n",
            "66\n",
            "67\n",
            "68\n",
            "69\n",
            "70\n",
            "71\n",
            "72\n",
            "73\n",
            "74\n",
            "75\n",
            "76\n",
            "77\n",
            "78\n",
            "79\n",
            "80\n",
            "81\n",
            "82\n",
            "83\n",
            "84\n",
            "85\n",
            "86\n",
            "87\n",
            "88\n",
            "89\n",
            "90\n",
            "91\n",
            "92\n",
            "93\n",
            "94\n",
            "95\n",
            "96\n",
            "97\n",
            "98\n",
            "99\n",
            "100\n"
          ]
        }
      ]
    },
    {
      "cell_type": "markdown",
      "source": [
        "atividade 2"
      ],
      "metadata": {
        "id": "yk7a_yErT4LM"
      }
    },
    {
      "cell_type": "code",
      "source": [
        "for poste in range(2,51,2):\n",
        "  print(poste)"
      ],
      "metadata": {
        "colab": {
          "base_uri": "https://localhost:8080/"
        },
        "id": "Q9FW9JUjSVG9",
        "outputId": "f2da41b4-319f-43aa-e645-56254abd299d"
      },
      "execution_count": null,
      "outputs": [
        {
          "output_type": "stream",
          "name": "stdout",
          "text": [
            "2\n",
            "4\n",
            "6\n",
            "8\n",
            "10\n",
            "12\n",
            "14\n",
            "16\n",
            "18\n",
            "20\n",
            "22\n",
            "24\n",
            "26\n",
            "28\n",
            "30\n",
            "32\n",
            "34\n",
            "36\n",
            "38\n",
            "40\n",
            "42\n",
            "44\n",
            "46\n",
            "48\n",
            "50\n"
          ]
        }
      ]
    },
    {
      "cell_type": "markdown",
      "source": [
        "atividae 3"
      ],
      "metadata": {
        "id": "zPz2hUDOT7v9"
      }
    },
    {
      "cell_type": "code",
      "source": [
        "for contador in range(1,100,2):\n",
        "  print(contador)"
      ],
      "metadata": {
        "colab": {
          "base_uri": "https://localhost:8080/"
        },
        "id": "svV5RZR4TNGF",
        "outputId": "033b3e11-39b2-4c20-981b-c3bad70f6ec9"
      },
      "execution_count": null,
      "outputs": [
        {
          "output_type": "stream",
          "name": "stdout",
          "text": [
            "1\n",
            "3\n",
            "5\n",
            "7\n",
            "9\n",
            "11\n",
            "13\n",
            "15\n",
            "17\n",
            "19\n",
            "21\n",
            "23\n",
            "25\n",
            "27\n",
            "29\n",
            "31\n",
            "33\n",
            "35\n",
            "37\n",
            "39\n",
            "41\n",
            "43\n",
            "45\n",
            "47\n",
            "49\n",
            "51\n",
            "53\n",
            "55\n",
            "57\n",
            "59\n",
            "61\n",
            "63\n",
            "65\n",
            "67\n",
            "69\n",
            "71\n",
            "73\n",
            "75\n",
            "77\n",
            "79\n",
            "81\n",
            "83\n",
            "85\n",
            "87\n",
            "89\n",
            "91\n",
            "93\n",
            "95\n",
            "97\n",
            "99\n"
          ]
        }
      ]
    },
    {
      "cell_type": "markdown",
      "source": [
        "Atividade 4"
      ],
      "metadata": {
        "id": "LhrzFwaVT-Dk"
      }
    },
    {
      "cell_type": "code",
      "source": [
        "soma = 0\n",
        "\n",
        "for contador in range(5):\n",
        "  dinheiro = float(input(\"Digite um numero\"))\n",
        "   vaquinha  += dinheiro\n",
        "  Media = vaquinha/5:\n",
        "   print(media)"
      ],
      "metadata": {
        "colab": {
          "base_uri": "https://localhost:8080/",
          "height": 106
        },
        "id": "kB8_a-HAUAM8",
        "outputId": "923c9322-d4df-4a1e-8b5d-d272ace656bd"
      },
      "execution_count": null,
      "outputs": [
        {
          "output_type": "error",
          "ename": "IndentationError",
          "evalue": "unexpected indent (ipython-input-61-1137011640.py, line 5)",
          "traceback": [
            "\u001b[0;36m  File \u001b[0;32m\"/tmp/ipython-input-61-1137011640.py\"\u001b[0;36m, line \u001b[0;32m5\u001b[0m\n\u001b[0;31m    vaquinha  += dinheiro\u001b[0m\n\u001b[0m    ^\u001b[0m\n\u001b[0;31mIndentationError\u001b[0m\u001b[0;31m:\u001b[0m unexpected indent\n"
          ]
        }
      ]
    },
    {
      "cell_type": "markdown",
      "source": [
        "Ativade 5"
      ],
      "metadata": {
        "id": "RkPc2G7aWhp0"
      }
    },
    {
      "cell_type": "code",
      "source": [
        "for par in range(0, 11,2):\n",
        " print(par)\n",
        "for impar in range(1, 11,2):\n",
        " print(impar)"
      ],
      "metadata": {
        "colab": {
          "base_uri": "https://localhost:8080/"
        },
        "id": "IZM4HYqiWlI0",
        "outputId": "97e10c74-94f8-4860-ea56-50917ee6fd26"
      },
      "execution_count": null,
      "outputs": [
        {
          "output_type": "stream",
          "name": "stdout",
          "text": [
            "0\n",
            "2\n",
            "4\n",
            "6\n",
            "8\n",
            "10\n",
            "1\n",
            "3\n",
            "5\n",
            "7\n",
            "9\n"
          ]
        }
      ]
    },
    {
      "cell_type": "markdown",
      "source": [
        "Atividade 6"
      ],
      "metadata": {
        "id": "BZ1PPfKpYXqE"
      }
    },
    {
      "cell_type": "code",
      "source": [
        "for multiplicador in range(1, 11):\n",
        "  resultado = 1 * multiplicador\n",
        "  print(f'1 x {multiplicador} = {resultado}')"
      ],
      "metadata": {
        "colab": {
          "base_uri": "https://localhost:8080/"
        },
        "id": "YTU2FsJiYbkU",
        "outputId": "2699e1fd-2d08-40d9-ec09-72ec39459c58"
      },
      "execution_count": null,
      "outputs": [
        {
          "output_type": "stream",
          "name": "stdout",
          "text": [
            "1 x 1 = 1\n",
            "1 x 2 = 2\n",
            "1 x 3 = 3\n",
            "1 x 4 = 4\n",
            "1 x 5 = 5\n",
            "1 x 6 = 6\n",
            "1 x 7 = 7\n",
            "1 x 8 = 8\n",
            "1 x 9 = 9\n",
            "1 x 10 = 10\n"
          ]
        }
      ]
    },
    {
      "cell_type": "markdown",
      "source": [
        "Ativida 7"
      ],
      "metadata": {
        "id": "LSbgwx8zZnX0"
      }
    },
    {
      "cell_type": "code",
      "source": [
        "for multiplicador in range (1, 11):\n",
        "  print(\"Tabuada do(\"Tabuada\")\n",
        "  resultado = tabuada * numero\n",
        "  print(f'1 x {multiplicador} = {resultado}')"
      ],
      "metadata": {
        "colab": {
          "base_uri": "https://localhost:8080/",
          "height": 106
        },
        "id": "lplCbdwkZveL",
        "outputId": "e085c1c4-1b60-4645-d35c-fce35b97733b"
      },
      "execution_count": null,
      "outputs": [
        {
          "output_type": "error",
          "ename": "SyntaxError",
          "evalue": "unterminated string literal (detected at line 2) (ipython-input-40-1957433225.py, line 2)",
          "traceback": [
            "\u001b[0;36m  File \u001b[0;32m\"/tmp/ipython-input-40-1957433225.py\"\u001b[0;36m, line \u001b[0;32m2\u001b[0m\n\u001b[0;31m    print(\"Tabuada do)(\"Tabuada\")\u001b[0m\n\u001b[0m                               ^\u001b[0m\n\u001b[0;31mSyntaxError\u001b[0m\u001b[0;31m:\u001b[0m unterminated string literal (detected at line 2)\n"
          ]
        }
      ]
    },
    {
      "cell_type": "markdown",
      "source": [
        "Atividade 8"
      ],
      "metadata": {
        "id": "U5wakQ1McZbc"
      }
    },
    {
      "cell_type": "code",
      "source": [
        "numeros = list(range(1, 21))\n",
        " print(\"Numeros um abaixo do outro\")\n",
        " for numero in numeros:\n",
        "   print(numero)\n",
        "   print(\"\\nNumeros lado a lado\")\n",
        "   print(\" \".join(map(str, numeros)))\n"
      ],
      "metadata": {
        "colab": {
          "base_uri": "https://localhost:8080/",
          "height": 106
        },
        "id": "801Jqyn0eTfc",
        "outputId": "ec3ebb65-d034-4237-f035-45490803c776"
      },
      "execution_count": null,
      "outputs": [
        {
          "output_type": "error",
          "ename": "IndentationError",
          "evalue": "unexpected indent (ipython-input-42-2335162557.py, line 2)",
          "traceback": [
            "\u001b[0;36m  File \u001b[0;32m\"/tmp/ipython-input-42-2335162557.py\"\u001b[0;36m, line \u001b[0;32m2\u001b[0m\n\u001b[0;31m    print(\"Numeros um abaixo do outro\")\u001b[0m\n\u001b[0m    ^\u001b[0m\n\u001b[0;31mIndentationError\u001b[0m\u001b[0;31m:\u001b[0m unexpected indent\n"
          ]
        }
      ]
    },
    {
      "cell_type": "markdown",
      "source": [
        "Atividade 9"
      ],
      "metadata": {
        "id": "FIp-Z2ocfiC7"
      }
    },
    {
      "cell_type": "code",
      "source": [
        "for livros  in range(1, 50, 2):\n",
        "  print(livros)"
      ],
      "metadata": {
        "colab": {
          "base_uri": "https://localhost:8080/"
        },
        "id": "9omTyZZIfnB7",
        "outputId": "4bc6ba9c-6161-4b05-bf0b-6625a5d9651c"
      },
      "execution_count": null,
      "outputs": [
        {
          "output_type": "stream",
          "name": "stdout",
          "text": [
            "1\n",
            "3\n",
            "5\n",
            "7\n",
            "9\n",
            "11\n",
            "13\n",
            "15\n",
            "17\n",
            "19\n",
            "21\n",
            "23\n",
            "25\n",
            "27\n",
            "29\n",
            "31\n",
            "33\n",
            "35\n",
            "37\n",
            "39\n",
            "41\n",
            "43\n",
            "45\n",
            "47\n",
            "49\n"
          ]
        }
      ]
    },
    {
      "cell_type": "markdown",
      "source": [
        "Ativiade 10"
      ],
      "metadata": {
        "id": "LpV4MvYTgHz7"
      }
    },
    {
      "cell_type": "code",
      "source": [
        "num1 = int(input(\"Digite o primeiro numero inteiro: \"))\n",
        "num2 = int(input(\"Digite o segundo numero inteiro: \"))\n",
        "inicio = min (num1, num2)\n",
        "fim =  max(num1, num2)\n",
        "print (f\"Numero inteiros entre {num1} e {num2}:\")\n",
        "for numero in range (inicio, fim ):\n",
        "  print(numero)"
      ],
      "metadata": {
        "colab": {
          "base_uri": "https://localhost:8080/"
        },
        "id": "DM8E_Y9ogN6q",
        "outputId": "6be65812-d23b-4a51-e1a7-1bccdb5330fd"
      },
      "execution_count": null,
      "outputs": [
        {
          "output_type": "stream",
          "name": "stdout",
          "text": [
            "Digite o primeiro numero inteiro: 8\n",
            "Digite o segundo numero inteiro: 4\n",
            "Numero inteiros entre 8 e 4:\n",
            "4\n",
            "5\n",
            "6\n",
            "7\n"
          ]
        }
      ]
    },
    {
      "cell_type": "markdown",
      "source": [
        "Atividade 11\n"
      ],
      "metadata": {
        "id": "9QoJJrabkdyC"
      }
    },
    {
      "cell_type": "code",
      "source": [
        "for i in range(5):\n",
        "  venda = float(input(f\"Digiteo valor da venda {i + 1}: R$ \"))\n",
        "  vendas .append(venda)\n",
        "\n",
        "  faturamento_total = sum (vendas)\n",
        "  limete = 54000\n",
        "  if faturamento_total > limite:\n",
        "    print(f\"o faturamento total foi de R$ {faturamento_total:.2f}.\")\n",
        "    print(f\"ultrapassou o limite em R$ {faturamento_total - limete:.2f}.\")\n",
        "  else:\n",
        "    print(f\"o faturamento total foi de R$ {faturamento_total:.2f}.\")\n",
        "  print(\"Nao ultapasou o limite de R$54.000.\")"
      ],
      "metadata": {
        "id": "aRjtgQ-Tkh-K"
      },
      "execution_count": null,
      "outputs": []
    },
    {
      "cell_type": "markdown",
      "source": [
        "Atividae 12\n"
      ],
      "metadata": {
        "id": "AMBIDtK97FVX"
      }
    },
    {
      "cell_type": "code",
      "source": [
        "for robos  in range(2,21,2))\n",
        " print(\"Robos correndo:\")\n",
        "  for robo in robos:\n",
        " print(robo)\n"
      ],
      "metadata": {
        "id": "KuvCddMN7IO4"
      },
      "execution_count": null,
      "outputs": []
    },
    {
      "cell_type": "markdown",
      "source": [
        "Atividade 13\n"
      ],
      "metadata": {
        "id": "bwwRHG4n-wKX"
      }
    },
    {
      "cell_type": "code",
      "source": [
        "for numero in range(1000, 2001):\n",
        "  if numero % 11 == 2:\n",
        "    numeros_ganham_brinde.append(numero)\n",
        "    print(\"Numero de inscriçao que ganham brinde:\")\n",
        "    for numero in numeros_ganham_brinde:\n",
        "   print(numero)"
      ],
      "metadata": {
        "id": "Hy-Q9RAP-1fn"
      },
      "execution_count": null,
      "outputs": []
    },
    {
      "cell_type": "markdown",
      "source": [
        "Atividade 14"
      ],
      "metadata": {
        "id": "9NmmImAnB7tH"
      }
    },
    {
      "cell_type": "code",
      "source": [
        "for contador in range(10, 1):\n",
        " print(\"contador\")\n",
        " print(\"Final lançar foguete\")"
      ],
      "metadata": {
        "id": "QiZ7jnY4B-qm"
      },
      "execution_count": null,
      "outputs": []
    },
    {
      "cell_type": "markdown",
      "source": [
        " Atividade 15\n"
      ],
      "metadata": {
        "id": "eFOog4qrD4_u"
      }
    },
    {
      "cell_type": "code",
      "source": [
        "soma = 0\n",
        "\n",
        "for dias in range(30)\n",
        " dinheiro = float(input)(\"Digite um numero\")\n",
        "  cofrinho += dinheiro\n",
        "  media = cofrinho/30\n",
        "  print(media)"
      ],
      "metadata": {
        "id": "ragckcsED8jm"
      },
      "execution_count": null,
      "outputs": []
    },
    {
      "cell_type": "markdown",
      "source": [
        "ATIVIDAE 16\n"
      ],
      "metadata": {
        "id": "lViEHXCQFiRY"
      }
    },
    {
      "cell_type": "markdown",
      "source": [],
      "metadata": {
        "id": "3S3lRXVLFmuA"
      }
    },
    {
      "cell_type": "code",
      "source": [
        "for i in range(1, 6):\n",
        "    peso = float(input(f\"Digite o peso do boi {i} (em kg): \"))\n",
        "    if peso > maior_peso:\n",
        "        maior_peso = peso\n",
        "\n",
        "print(f\"\\nO boi mais pesado pesa {maior_peso:.2f} kg.\")"
      ],
      "metadata": {
        "id": "GShmvLKUgTxE"
      },
      "execution_count": null,
      "outputs": []
    },
    {
      "cell_type": "markdown",
      "source": [
        "Atividade 17"
      ],
      "metadata": {
        "id": "dGRZzKaqgVrU"
      }
    },
    {
      "cell_type": "code",
      "source": [
        "for i in range(1, 6):\n",
        "    peso = float(input(f\"Digite o peso do boi {i} (em kg): \"))\n",
        "    if peso > maior_peso:\n",
        "        maior_peso = peso\n",
        "\n",
        "print(f\"\\nO boi mais pesado pesa {maior_peso:.2f} kg.\")"
      ],
      "metadata": {
        "id": "XE4CupllgYgl"
      },
      "execution_count": null,
      "outputs": []
    },
    {
      "cell_type": "markdown",
      "source": [
        "Atividade 18\n"
      ],
      "metadata": {
        "id": "t2EQ-uwGgruq"
      }
    },
    {
      "cell_type": "code",
      "source": [
        "for i in range(1, 11):\n",
        "    quantidade = int(input(f\"Digite a quantidade em estoque do produto {i}: \"))\n",
        "    total_estoque += quantidade\n",
        "\n",
        "print(f\"\\nO total de produtos em estoque é: {total_estoque}\""
      ],
      "metadata": {
        "id": "k0hD6r6Egw-6"
      },
      "execution_count": null,
      "outputs": []
    },
    {
      "cell_type": "markdown",
      "source": [
        "Atividade 19"
      ],
      "metadata": {
        "id": "QvJoZQ6dg78K"
      }
    },
    {
      "cell_type": "code",
      "source": [
        "for i in range(1, 11):\n",
        "    quantidade = int(input(f\"Digite a quantidade em estoque do produto {i}: \"))\n",
        "    total_estoque += quantidade\n",
        "\n",
        "print(f\"\\nO total de produtos em estoque é: {total_estoque}\")"
      ],
      "metadata": {
        "id": "D9dOU3Xxg-4E"
      },
      "execution_count": null,
      "outputs": []
    },
    {
      "cell_type": "markdown",
      "source": [
        "Atividae 20"
      ],
      "metadata": {
        "id": "L0SJ7KH6hIyd"
      }
    },
    {
      "cell_type": "code",
      "source": [
        "for i in range(1, 101):\n",
        "    if i % 3 == 0 and i % 5 == 0:\n",
        "        print(\"FizzBuzz\")\n",
        "    elif i % 3 == 0:\n",
        "        print(\"Fizz\")\n",
        "    elif i % 5 == 0:\n",
        "        print(\"Buzz\")\n",
        "    else:\n",
        "        print(i)"
      ],
      "metadata": {
        "id": "0iz1WKVzhLda"
      },
      "execution_count": null,
      "outputs": []
    }
  ]
}