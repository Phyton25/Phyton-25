{
  "nbformat": 4,
  "nbformat_minor": 0,
  "metadata": {
    "colab": {
      "provenance": [],
      "authorship_tag": "ABX9TyM5TX4Pxp+29Du20vq8vIuz",
      "include_colab_link": true
    },
    "kernelspec": {
      "name": "python3",
      "display_name": "Python 3"
    },
    "language_info": {
      "name": "python"
    }
  },
  "cells": [
    {
      "cell_type": "markdown",
      "metadata": {
        "id": "view-in-github",
        "colab_type": "text"
      },
      "source": [
        "<a href=\"https://colab.research.google.com/github/Phyton25/Phyton-25/blob/main/Untitled5.ipynb\" target=\"_parent\"><img src=\"https://colab.research.google.com/assets/colab-badge.svg\" alt=\"Open In Colab\"/></a>"
      ]
    },
    {
      "cell_type": "markdown",
      "source": [
        "MAICH CASE\n"
      ],
      "metadata": {
        "id": "_kHwgBX05KIK"
      }
    },
    {
      "cell_type": "code",
      "source": [],
      "metadata": {
        "id": "XJNqIcE99W_L"
      },
      "execution_count": null,
      "outputs": []
    },
    {
      "cell_type": "code",
      "source": [
        "Dia int(input(\"Digite um numero de 1 a 7: \"))\n",
        "\n",
        "match dia:\n",
        "  case 1:\n",
        "    print(\"Segunda\")\n",
        "  case 2:\n",
        "    print(\"Terça\")\n",
        "  case 3:\n",
        "    print(\"Quarta\")\n",
        "  case 4:\n",
        "    print(\"Quinta\")\n",
        "  case 5:\n",
        "    print(\"Sexta\")\n",
        "  case 6:\n",
        "   print(\"Sabado\")\n",
        "  case _:\n",
        "    print(\"Dia invalido\")"
      ],
      "metadata": {
        "colab": {
          "base_uri": "https://localhost:8080/",
          "height": 106
        },
        "id": "aBBUqtBH5Qka",
        "outputId": "9a8de412-0f13-495b-d4c3-441a7259b3cd"
      },
      "execution_count": 21,
      "outputs": [
        {
          "output_type": "error",
          "ename": "SyntaxError",
          "evalue": "invalid syntax (ipython-input-21-1990420085.py, line 1)",
          "traceback": [
            "\u001b[0;36m  File \u001b[0;32m\"/tmp/ipython-input-21-1990420085.py\"\u001b[0;36m, line \u001b[0;32m1\u001b[0m\n\u001b[0;31m    Dia int(input(\"Digite um numero de 1 a 7: \"))\u001b[0m\n\u001b[0m        ^\u001b[0m\n\u001b[0;31mSyntaxError\u001b[0m\u001b[0;31m:\u001b[0m invalid syntax\n"
          ]
        }
      ]
    },
    {
      "cell_type": "code",
      "source": [
        "nota = int(input (\"Digite a nota (0 a 10); \"))\n",
        "match nota:\n",
        "  case 10 or 9:\n",
        "    print(\"conceito A\")\n",
        "  case 8/ or 7:\n",
        "    print(\"coceito B\")\n",
        "  case 5 or 6\n",
        "    print(\"conceito C\")\n",
        "  case 4|3|2|1|0:\n",
        "    print(\"Nota invalida\")"
      ],
      "metadata": {
        "colab": {
          "base_uri": "https://localhost:8080/",
          "height": 106
        },
        "id": "ksQGbNpm7q77",
        "outputId": "9dd6e16f-b508-44d7-c10f-6c2d9c1ccdf1"
      },
      "execution_count": 20,
      "outputs": [
        {
          "output_type": "error",
          "ename": "SyntaxError",
          "evalue": "invalid syntax (ipython-input-20-3165275498.py, line 3)",
          "traceback": [
            "\u001b[0;36m  File \u001b[0;32m\"/tmp/ipython-input-20-3165275498.py\"\u001b[0;36m, line \u001b[0;32m3\u001b[0m\n\u001b[0;31m    case 10 or 9:\u001b[0m\n\u001b[0m            ^\u001b[0m\n\u001b[0;31mSyntaxError\u001b[0m\u001b[0;31m:\u001b[0m invalid syntax\n"
          ]
        }
      ]
    },
    {
      "cell_type": "code",
      "source": [
        "def classificar_idade(idade):\n",
        "\n",
        "    match idade:\n",
        "        case idade if 0 <= idade <= 12:\n",
        "            return \"Criança\"\n",
        "        case idade if 13 <= idade <= 17:\n",
        "            return \"Adolescente\"\n",
        "        case idade if 18 <= idade <= 59:\n",
        "            return \"Adulto\"\n",
        "        case idade if idade >= 60:\n",
        "            return \"Idoso\"\n",
        "        case _:\n",
        "            return \"Idade inválida\"\n",
        "\n",
        "try:\n",
        "    idade = int(input(\"Digite sua idade: \"))\n",
        "    classificacao = classificar_idade(idade)\n",
        "    print(f\"Classificação: {classificacao}\")\n",
        "except ValueError:\n",
        "    print(\"Por favor, digite um número inteiro válido.\")\n",
        "\n",
        "\n",
        "\n"
      ],
      "metadata": {
        "colab": {
          "base_uri": "https://localhost:8080/"
        },
        "id": "Y_yUKxhhA6iT",
        "outputId": "9256892c-d9e5-4f1a-908d-fcea35873d46"
      },
      "execution_count": 24,
      "outputs": [
        {
          "output_type": "stream",
          "name": "stdout",
          "text": [
            "Digite sua idade: 25\n",
            "Classificação: Adulto\n"
          ]
        }
      ]
    },
    {
      "cell_type": "code",
      "source": [],
      "metadata": {
        "colab": {
          "base_uri": "https://localhost:8080/",
          "height": 106
        },
        "id": "LQaZ9ANsCBXT",
        "outputId": "b749bbcc-dc99-49a3-b82e-17eee1e16a99"
      },
      "execution_count": 25,
      "outputs": [
        {
          "output_type": "error",
          "ename": "SyntaxError",
          "evalue": "invalid syntax (ipython-input-25-1000843154.py, line 1)",
          "traceback": [
            "\u001b[0;36m  File \u001b[0;32m\"/tmp/ipython-input-25-1000843154.py\"\u001b[0;36m, line \u001b[0;32m1\u001b[0m\n\u001b[0;31m    Peça uma nota de 0 a 100 e converta em conceito com match-case:\u001b[0m\n\u001b[0m         ^\u001b[0m\n\u001b[0;31mSyntaxError\u001b[0m\u001b[0;31m:\u001b[0m invalid syntax\n"
          ]
        }
      ]
    },
    {
      "cell_type": "code",
      "source": [
        "def converter_para_conceito(nota):\n",
        "    match nota:\n",
        "        case nota if 90 <= nota <= 100:\n",
        "            return \"A\"\n",
        "        case nota if 80 <= nota <= 89:\n",
        "            return \"B\"\n",
        "        case nota if 70 <= nota <= 79:\n",
        "            return \"C\"\n",
        "        case nota if 60 <= nota <= 69:\n",
        "            return \"D\"\n",
        "        case nota if 0 <= nota < 60:\n",
        "            return \"F\"\n",
        "        case _:\n",
        "            return \"Nota inválida\"\n",
        "\n",
        "try:\n",
        "    nota = int(input(\"Digite a nota (0 a 100): \"))\n",
        "    conceito = converter_para_conceito(nota)\n",
        "    print(f\"Conceito: {conceito}\")\n",
        "except ValueError:\n",
        "    print(\"Por favor, digite um número inteiro válido.\")\n",
        ""
      ],
      "metadata": {
        "colab": {
          "base_uri": "https://localhost:8080/"
        },
        "id": "vqJEilJSCR4D",
        "outputId": "60fc00bd-ca5a-4a24-8973-6b20859828c4"
      },
      "execution_count": 27,
      "outputs": [
        {
          "output_type": "stream",
          "name": "stdout",
          "text": [
            "Digite a nota (0 a 100): 65\n",
            "Conceito: D\n"
          ]
        }
      ]
    },
    {
      "cell_type": "code",
      "source": [
        "def calcular_preco_com_desconto(valor, tipo_cliente):\n",
        "    match tipo_cliente:\n",
        "        case 1:\n",
        "            desconto = 0.05  # Comum\n",
        "        case 2:\n",
        "            desconto = 0.10  # Fidelidade\n",
        "        case 3:\n",
        "            desconto = 0.20  # VIP\n",
        "        case _:\n",
        "            return \"Tipo de cliente inválido.\"\n",
        "\n",
        "    valor_final = valor * (1 - desconto)\n",
        "    return f\"Valor com desconto: R$ {valor_final:.2f}\"\n",
        "\n",
        "try:\n",
        "    valor = float(input(\"Digite o valor do produto: R$ \"))\n",
        "    tipo = int(input(\"Digite o tipo de cliente (1-Comum, 2-Fidelidade, 3-VIP): \"))\n",
        "    resultado = calcular_preco_com_desconto(valor, tipo)\n",
        "    print(resultado)\n",
        "except ValueError:\n",
        "    print(\"Entrada inválida. Certifique-se de digitar números válidos.\")\n",
        ""
      ],
      "metadata": {
        "colab": {
          "base_uri": "https://localhost:8080/"
        },
        "id": "p7TCaGcXCjf0",
        "outputId": "f8bf4c23-55e7-483b-e534-abce189b3f52"
      },
      "execution_count": 29,
      "outputs": [
        {
          "output_type": "stream",
          "name": "stdout",
          "text": [
            "Digite o valor do produto: R$ 45\n",
            "Digite o tipo de cliente (1-Comum, 2-Fidelidade, 3-VIP): 2\n",
            "Valor com desconto: R$ 40.50\n"
          ]
        }
      ]
    },
    {
      "cell_type": "code",
      "source": [
        "def converter_temperatura(temp, unidade_destino):\n",
        "    match unidade_destino.upper():\n",
        "        case \"F\":\n",
        "            # Celsius para Fahrenheit\n",
        "            return f\"{temp}°C = {temp * 9/5 + 32:.2f}°F\"\n",
        "        case \"C\":\n",
        "            # Fahrenheit para Celsius\n",
        "            return f\"{temp}°F = {(temp - 32) * 5/9:.2f}°C\"\n",
        "        case _:\n",
        "            return \"Unidade inválida. Use 'C' para Celsius ou 'F' para Fahrenheit.\"\n",
        "\n",
        "try:\n",
        "    temp = float(input(\"Digite a temperatura: \"))\n",
        "    unidade = input(\"Converter para (C/F): \")\n",
        "    resultado = converter_temperatura(temp, unidade)\n",
        "    print(resultado)\n",
        "except ValueError:\n",
        "    print(\"Entrada inválida. Digite um número para a temperatura.\")\n",
        ""
      ],
      "metadata": {
        "colab": {
          "base_uri": "https://localhost:8080/"
        },
        "id": "4iP3wNQrDN60",
        "outputId": "a1913366-c7cb-4f80-98de-7baa131761ed"
      },
      "execution_count": 31,
      "outputs": [
        {
          "output_type": "stream",
          "name": "stdout",
          "text": [
            "Digite a temperatura: 37\n",
            "Converter para (C/F): 37º\n",
            "Unidade inválida. Use 'C' para Celsius ou 'F' para Fahrenheit.\n"
          ]
        }
      ]
    },
    {
      "cell_type": "code",
      "source": [
        "def verificar_pluralidade(palavra):\n",
        "    match palavra[-1:]:\n",
        "        case \"s\":\n",
        "            return \"Plural\"\n",
        "        case _:\n",
        "            return \"Singular\"\n",
        "\n",
        "palavra = input(\"Digite uma palavra: \").strip().lower()\n",
        "resultado = verificar_pluralidade(palavra)\n",
        "print(f\"A palavra é: {resultado}\")\n"
      ],
      "metadata": {
        "colab": {
          "base_uri": "https://localhost:8080/"
        },
        "id": "cdhy2eLFGupU",
        "outputId": "43d0f866-1382-4a86-88bf-9c01c5cd9fe7"
      },
      "execution_count": 32,
      "outputs": [
        {
          "output_type": "stream",
          "name": "stdout",
          "text": [
            "Digite uma palavra: Brasil\n",
            "A palavra é: Singular\n"
          ]
        }
      ]
    },
    {
      "cell_type": "code",
      "source": [
        "def traduzir_cor(cor):\n",
        "    match cor.lower():\n",
        "        case 'red':\n",
        "            return \"Vermelho\"\n",
        "        case 'blue':\n",
        "            return \"Azul\"\n",
        "        case 'green':\n",
        "            return \"Verde\"\n",
        "        case 'yellow':\n",
        "            return \"Amarelo\"\n",
        "        case 'black':\n",
        "            return \"Preto\"\n",
        "        case 'white':\n",
        "            return \"Branco\"\n",
        "        case 'purple':\n",
        "            return \"Roxo\"\n",
        "        case 'orange':\n",
        "            return \"Laranja\"\n",
        "        case 'pink':\n",
        "            return \"Rosa\"\n",
        "        case 'brown':\n",
        "            return \"Marrom\"\n",
        "        case _:\n",
        "            return \"Cor não reconhecida\"\n"
      ],
      "metadata": {
        "id": "dqZDhy0VHJv1"
      },
      "execution_count": 33,
      "outputs": []
    },
    {
      "cell_type": "code",
      "source": [
        "def tempo_estimado_entrega(tipo_envio):\n",
        "    match tipo_envio:\n",
        "        case 1:\n",
        "            return \"Tempo estimado: 7 a 10 dias úteis (Normal)\"\n",
        "        case 2:\n",
        "            return \"Tempo estimado: 3 a 5 dias úteis (Expresso)\"\n",
        "        case 3:\n",
        "            return \"Tempo estimado: 1 a 3 dias úteis (Sedex)\"\n",
        "        case _:\n",
        "            return \"Tipo de envio inválido. Escolha 1, 2 ou 3.\"\n",
        "\n",
        "try:\n",
        "    tipo = int(input(\"Digite o tipo de envio (1-Normal, 2-Expresso, 3-Sedex): \"))\n",
        "    resultado = tempo_estimado_entrega(tipo)\n",
        "    print(resultado)\n",
        "except ValueError:\n",
        "    print(\"Entrada inválida. Digite um número inteiro válido.\")"
      ],
      "metadata": {
        "colab": {
          "base_uri": "https://localhost:8080/"
        },
        "id": "gini0oGOHQSr",
        "outputId": "17863982-6b71-4892-b592-757425c5fc50"
      },
      "execution_count": 34,
      "outputs": [
        {
          "output_type": "stream",
          "name": "stdout",
          "text": [
            "Digite o tipo de envio (1-Normal, 2-Expresso, 3-Sedex): 2\n",
            "Tempo estimado: 3 a 5 dias úteis (Expresso)\n"
          ]
        }
      ]
    },
    {
      "cell_type": "code",
      "source": [
        "def realizar_operacao(opcao):\n",
        "    match opcao:\n",
        "        case 1:\n",
        "            return \"Ação: Consultar Saldo\"\n",
        "        case 2:\n",
        "            return \"Ação: Realizar Saque\"\n",
        "        case 3:\n",
        "            return \"Ação: Realizar Depósito\"\n",
        "        case _:\n",
        "            return \"Opção inválida. Escolha 1, 2 ou 3.\"\n",
        "\n",
        "try:\n",
        "    opcao = int(input(\"Escolha uma operação:\\n1 - Saldo\\n2 - Saque\\n3 - Depósito\\nDigite o número correspondente: \"))\n",
        "    resultado = realizar_operacao(opcao)\n",
        "    print(resultado)\n",
        "except ValueError:\n",
        "    print(\"Entrada inválida. Digite um número inteiro válido.\")\n",
        "\n"
      ],
      "metadata": {
        "colab": {
          "base_uri": "https://localhost:8080/"
        },
        "id": "hV5jWbaxHad7",
        "outputId": "25490e06-40e3-4805-c206-87ca6ef0988a"
      },
      "execution_count": 37,
      "outputs": [
        {
          "output_type": "stream",
          "name": "stdout",
          "text": [
            "Escolha uma operação:\n",
            "1 - Saldo\n",
            "2 - Saque\n",
            "3 - Depósito\n",
            "Digite o número correspondente: 3\n",
            "Ação: Realizar Depósito\n"
          ]
        }
      ]
    },
    {
      "cell_type": "code",
      "source": [
        "def cumprimentar_usuario(turno):\n",
        "    match turno.upper():\n",
        "        case 'M':\n",
        "            return \"Bom dia! Tenha um ótimo dia!\"\n",
        "        case 'V':\n",
        "            return \"Boa tarde! Aproveite seu tempo!\"\n",
        "        case 'N':\n",
        "            return \"Boa noite! Descanse bem!\"\n",
        "        case _:\n",
        "            return \"Turno inválido. Use 'M' para Matutino, 'V' para Vespertino ou 'N' para Noturno.\"\n",
        "\n",
        "turno = input(\"Digite o turno (M-Matutino, V-Vespertino, N-Noturno): \").strip()\n",
        "resultado = cumprimentar_usuario(turno)"
      ],
      "metadata": {
        "colab": {
          "base_uri": "https://localhost:8080/"
        },
        "id": "Zr6e3hihHuDs",
        "outputId": "ed0c8800-340c-4bf8-8568-183b9f78613d"
      },
      "execution_count": 38,
      "outputs": [
        {
          "name": "stdout",
          "output_type": "stream",
          "text": [
            "Digite o turno (M-Matutino, V-Vespertino, N-Noturno): v\n"
          ]
        }
      ]
    },
    {
      "cell_type": "code",
      "source": [
        "def classificar_imc(imc):\n",
        "    match imc:\n",
        "        case imc if imc < 18.5:\n",
        "            return \"Abaixo do peso\"\n",
        "        case imc if 18.5 <= imc <= 24.9:\n",
        "            return \"Normal\"\n",
        "        case imc if 25 <= imc <= 29.9:\n",
        "            return \"Sobrepeso\"\n",
        "        case imc if imc >= 30:\n",
        "            return \"Obesidade\"\n",
        "        case _:\n",
        "            return \"Valor inválido de IMC\"\n",
        "\n",
        "try:\n",
        "    peso = float(input(\"Digite seu peso (kg): \"))\n",
        "    altura = float(input(\"Digite sua altura (m): \"))\n",
        "    imc = peso / (altura ** 2)\n",
        "    classificacao = classificar_imc(imc)\n",
        "    print(f\"IMC: {imc:.2f} - Classificação: {classificacao}\")\n",
        "except ValueError:\n",
        "    print(\"Por favor, digite números válidos para peso e altura.\")"
      ],
      "metadata": {
        "colab": {
          "base_uri": "https://localhost:8080/"
        },
        "id": "hXKjGCleH4Yz",
        "outputId": "162d0c9b-1984-4732-8cde-afa9d4c84e89"
      },
      "execution_count": 40,
      "outputs": [
        {
          "output_type": "stream",
          "name": "stdout",
          "text": [
            "Digite seu peso (kg): 100\n",
            "Digite sua altura (m): 1.82\n",
            "IMC: 30.19 - Classificação: Obesidade\n"
          ]
        }
      ]
    },
    {
      "cell_type": "code",
      "source": [
        "def converter_moeda(valor, moeda):\n",
        "    match moeda:\n",
        "        case 1:\n",
        "            return valor / 5.30  # Dólar\n",
        "        case 2:\n",
        "            return valor / 5.90  # Euro\n",
        "        case 3:\n",
        "            return valor / 6.50  # Libra\n",
        "        case _:\n",
        "            return \"Moeda inválida. Escolha 1, 2 ou 3.\"\n",
        "\n",
        "try:\n",
        "    valor_reais = float(input(\"Digite o valor em reais (R$): \"))\n",
        "    print(\"Escolha a moeda para conversão:\")\n",
        "    print(\"1 - Dólar\")\n",
        "    print(\"2 - Euro\")\n",
        "    print(\"3 - Libra\")\n",
        "    moeda = int(input(\"Digite o número correspondente: \"))\n",
        "\n",
        "    valor_convertido = converter_moeda(valor_reais, moeda)\n",
        "\n",
        "    if isinstance(valor_convertido, float):\n",
        "        print(f\"Valor convertido: {valor_convertido:.2f}\")\n",
        "    else:\n",
        "        print(valor_convertido)\n",
        "except ValueError:\n",
        "    print(\"Entrada inválida. Digite um número válido para o valor ou para a moeda.\")\n",
        "\n"
      ],
      "metadata": {
        "colab": {
          "base_uri": "https://localhost:8080/"
        },
        "id": "FdbkwN5DINLs",
        "outputId": "913ae1e1-a4d3-461a-fb3e-a7f888451325"
      },
      "execution_count": 42,
      "outputs": [
        {
          "output_type": "stream",
          "name": "stdout",
          "text": [
            "Digite o valor em reais (R$): 35\n",
            "Escolha a moeda para conversão:\n",
            "1 - Dólar\n",
            "2 - Euro\n",
            "3 - Libra\n",
            "Digite o número correspondente: 2\n",
            "Valor convertido: 5.93\n"
          ]
        }
      ]
    },
    {
      "cell_type": "code",
      "source": [
        "def exibir_menu():\n",
        "    print(\"\\nMenu de Opções:\")\n",
        "    print(\"1 - Iniciar\")\n",
        "    print(\"2 - Carregar\")\n",
        "    print(\"3 - Créditos\")\n",
        "    print(\"4 - Sair\")\n",
        "\n",
        "def escolher_opcao(opcao):\n",
        "    match opcao:\n",
        "        case 1:\n",
        "            return \"Você escolheu: Iniciar\"\n",
        "        case 2:\n",
        "            return \"Você escolheu: Carregar\"\n",
        "        case 3:\n",
        "            return \"Você escolheu: Créditos\"\n",
        "        case 4:\n",
        "            return \"Você escolheu: Sair\"\n",
        "        case _:\n",
        "            return \"Opção inválida! Escolha entre 1, 2, 3 ou 4.\"\n",
        "\n",
        "def menu():\n",
        "    while True:\n",
        "        exibir_menu()\n",
        "        try:\n",
        "            opcao = int(input(\"Escolha uma opção: \"))\n",
        "            resultado = escolher_opcao(opcao)\n",
        "            print(resultado)\n",
        "            if opcao == 4:\n",
        "                break  # Encerra o programa ao escolher a opção \"Sair\"\n",
        "        except ValueError:\n",
        "            print(\"Entrada inválida. Digite um número entre 1 e 4.\")\n"
      ],
      "metadata": {
        "id": "v2C3ijHiIwzU"
      },
      "execution_count": 43,
      "outputs": []
    },
    {
      "cell_type": "code",
      "source": [
        "def identificar_tipo_arquivo(extensao):\n",
        "    match extensao.lower():\n",
        "        case \".txt\":\n",
        "            return \"Tipo de arquivo: Texto\"\n",
        "        case \".jpg\" | \".jpeg\" | \".png\" | \".gif\":\n",
        "            return \"Tipo de arquivo: Imagem\"\n",
        "        case \".mp3\" | \".wav\" | \".flac\":\n",
        "            return \"Tipo de arquivo: Áudio\"\n",
        "        case \".mp4\" | \".avi\" | \".mkv\":\n",
        "            return \"Tipo de arquivo: Vídeo\"\n",
        "        case \".py\" | \".java\" | \".cpp\" | \".js\":\n",
        "            return \"Tipo de arquivo: Código\"\n",
        "        case \".pdf\":\n",
        "            return \"Tipo de arquivo: Documento PDF\"\n",
        "        case \".zip\" | \".rar\":\n",
        "            return \"Tipo de arquivo: Arquivo compactado\"\n",
        "        case _:\n",
        "            return \"Extensão de arquivo desconhecida.\"\n",
        "\n",
        "try:\n",
        "    arquivo = input(\"Digite a extensão do arquivo (ex: .txt, .jpg, .py): \").strip()\n",
        "    resultado = identificar_tipo_arquivo(arquivo)\n",
        "    print(resultado)\n",
        "except Exception as e:\n",
        "    print(f\"Erro ao processar a extensão: {e}\")"
      ],
      "metadata": {
        "colab": {
          "base_uri": "https://localhost:8080/"
        },
        "id": "hvUu3Z4vIy17",
        "outputId": "d3bb3030-d214-4a69-aad4-1bae01d2539d"
      },
      "execution_count": 46,
      "outputs": [
        {
          "output_type": "stream",
          "name": "stdout",
          "text": [
            "Digite a extensão do arquivo (ex: .txt, .jpg, .py): jpg\n",
            "Extensão de arquivo desconhecida.\n"
          ]
        }
      ]
    },
    {
      "cell_type": "code",
      "source": [
        "def acao_alerta(nivel):\n",
        "    match nivel.lower():\n",
        "        case \"verde\":\n",
        "            return \"Ação: Tudo está sob controle. Continue normalmente.\"\n",
        "        case \"amarelo\":\n",
        "            return \"Ação: Atenção! Monitorar a situação e estar preparado.\"\n",
        "        case \"vermelho\":\n",
        "            return \"Ação: Alerta! Tomar medidas imediatas e agir rapidamente.\"\n",
        "        case _:\n",
        "            return \"Nível de alerta inválido. Use 'verde', 'amarelo' ou 'vermelho'.\"\n",
        "\n",
        "nivel_alerta = input(\"Digite o nível de alerta (verde, amarelo, vermelho): \").strip()\n",
        "resultado = acao_alerta(nivel_alerta)\n",
        "print(resultado)\n"
      ],
      "metadata": {
        "colab": {
          "base_uri": "https://localhost:8080/"
        },
        "id": "rm7BgSIPJFr8",
        "outputId": "21690b3a-1d4b-4c14-b82b-9787c8c1fe6d"
      },
      "execution_count": 50,
      "outputs": [
        {
          "output_type": "stream",
          "name": "stdout",
          "text": [
            "Digite o nível de alerta (verde, amarelo, vermelho): amrelo\n",
            "Nível de alerta inválido. Use 'verde', 'amarelo' ou 'vermelho'.\n"
          ]
        }
      ]
    },
    {
      "cell_type": "code",
      "source": [
        "def verificar_dia(dia):\n",
        "    match dia.lower():\n",
        "        case \"segunda\" | \"terca\" | \"quarta\" | \"quinta\" | \"sexta\":\n",
        "            return \"Dia útil\"\n",
        "        case \"sabado\" | \"domingo\":\n",
        "            return \"Final de semana\"\n",
        "        case _:\n",
        "            return \"Dia inválido. Digite um dia da semana válido.\"\n",
        "\n",
        "dia_semana = input(\"Digite um dia da semana: \").strip()\n",
        "resultado = verificar_dia(dia_semana)\n",
        "print(resultado)"
      ],
      "metadata": {
        "colab": {
          "base_uri": "https://localhost:8080/"
        },
        "id": "3GnyGVCMJWpE",
        "outputId": "3baa2fc8-fff6-4869-cc52-956ef90a18d6"
      },
      "execution_count": 54,
      "outputs": [
        {
          "output_type": "stream",
          "name": "stdout",
          "text": [
            "Digite um dia da semana: quinta\n",
            "Dia útil\n"
          ]
        }
      ]
    },
    {
      "cell_type": "code",
      "source": [
        "def resposta_automatizada(departamento):\n",
        "    match departamento:\n",
        "        case 1:\n",
        "            return \"Você escolheu Suporte. Nossa equipe está pronta para te ajudar.\"\n",
        "        case 2:\n",
        "            return \"Você escolheu Vendas. Fique à vontade para perguntar sobre nossos produtos!\"\n",
        "        case 3:\n",
        "            return \"Você escolheu Reclamações. Lamentamos o ocorrido, vamos resolver o mais rápido possível.\"\n",
        "        case _:\n",
        "            return \"Opção inválida! Escolha 1, 2 ou 3.\"\n",
        "\n",
        "try:\n",
        "    print(\"Escolha um departamento:\")\n",
        "    print(\"1 - Suporte\")\n",
        "    print(\"2 - Vendas\")\n",
        "    print(\"3 - Reclamações\")\n",
        "\n",
        "    departamento = int(input(\"Digite o número do departamento escolhido: \"))\n",
        "    resultado = resposta_automatizada(departamento)\n",
        "    print(resultado)\n",
        "except ValueError:\n",
        "    print(\"Entrada inválida. Digite um número inteiro válido entre 1 e 3.\")"
      ],
      "metadata": {
        "colab": {
          "base_uri": "https://localhost:8080/"
        },
        "id": "wf3znVrKJrhk",
        "outputId": "f369fff8-9542-4bf9-cd13-fc39d86084f3"
      },
      "execution_count": 56,
      "outputs": [
        {
          "output_type": "stream",
          "name": "stdout",
          "text": [
            "Escolha um departamento:\n",
            "1 - Suporte\n",
            "2 - Vendas\n",
            "3 - Reclamações\n",
            "Digite o número do departamento escolhido: 2\n",
            "Você escolheu Vendas. Fique à vontade para perguntar sobre nossos produtos!\n"
          ]
        }
      ]
    },
    {
      "cell_type": "code",
      "source": [
        "idade = int(input(\"Por favor, informe a sua idade: \"))\n",
        "\n",
        "if idade >= 0 and idade <= 2:\n",
        "    categoria = \"Bebê\"\n",
        "elif idade >= 3 and idade <= 12:\n",
        "    categoria = \"Criança\"\n",
        "elif idade >= 13 and idade <= 17:\n",
        "    categoria = \"Adolescente\"\n",
        "elif idade >= 18 and idade <= 59:\n",
        "    categoria = \"Adulto\"\n",
        "elif idade >= 60:\n",
        "    categoria = \"Idoso\"\n",
        "else:\n",
        "    categoria = \"Idade inválida\"\n",
        "\n",
        "print(f\"Você é um(a) {categoria}.\")"
      ],
      "metadata": {
        "colab": {
          "base_uri": "https://localhost:8080/"
        },
        "id": "rLPHpvXtJ4rU",
        "outputId": "c8872465-71fb-45b8-9655-22990c6ba9bb"
      },
      "execution_count": 57,
      "outputs": [
        {
          "output_type": "stream",
          "name": "stdout",
          "text": [
            "Por favor, informe a sua idade: 25\n",
            "Você é um(a) Adulto.\n"
          ]
        }
      ]
    },
    {
      "cell_type": "code",
      "source": [
        "opcao = input(\"Digite o número correspondente: \")\n",
        "\n",
        "if opcao == '1':\n",
        "    aliquota = 0\n",
        "    produto = \"Alimento\"\n",
        "elif opcao == '2':\n",
        "    aliquota = 10\n",
        "    produto = \"Bebida\"\n",
        "elif opcao == '3':\n",
        "    aliquota = 15\n",
        "    produto = \"Eletrônico\"\n",
        "else:\n",
        "    aliquota = None\n",
        "    produto = None\n",
        "\n",
        "if aliquota is not None:\n",
        "    print(f\"A alíquota de imposto para {produto} é de {aliquota}%.\")\n",
        "else:\n",
        "    print(\"Opção inválida. Por favor, selecione 1, 2 ou 3.\")"
      ],
      "metadata": {
        "colab": {
          "base_uri": "https://localhost:8080/"
        },
        "id": "iQfXSaasKvkc",
        "outputId": "630bcf47-2cf3-4150-d838-301a89702452"
      },
      "execution_count": 59,
      "outputs": [
        {
          "output_type": "stream",
          "name": "stdout",
          "text": [
            "Digite o número correspondente: 3\n",
            "A alíquota de imposto para Eletrônico é de 15%.\n"
          ]
        }
      ]
    },
    {
      "cell_type": "code",
      "source": [
        "def km_para_milha(km):\n",
        "    return km * 0.621371\n",
        "\n",
        "def celsius_para_fahrenheit(celsius):\n",
        "    return celsius * 9/5 + 32\n",
        "\n",
        "def kg_para_lb(kg):\n",
        "    return kg * 2.20462\n",
        "\n",
        "print(\"Escolha uma conversão:\")\n",
        "print(\"1 - Quilômetros (km) para Milhas (mi)\")\n",
        "print(\"2 - Celsius para Fahrenheit\")\n",
        "print(\"3 - Quilogramas (kg) para Libras (lb)\")\n",
        "\n",
        "opcao = int(input(\"Digite o número da sua opção: \"))\n",
        "\n",
        "if opcao == 1:\n",
        "    km = float(input(\"Digite o valor em quilômetros: \"))\n",
        "    resultado = km_para_milha(km)\n",
        "    print(f\"{km} km equivalem a {resultado:.2f} milhas.\")\n",
        "elif opcao == 2:\n",
        "    celsius = float(input(\"Digite a temperatura em Celsius: \"))\n",
        "    resultado = celsius_para_fahrenheit(celsius)\n",
        "    print(f\"{celsius}°C equivalem a {resultado:.2f}°F.\")\n",
        "elif opcao == 3:\n",
        "    kg = float(input(\"Digite o peso em quilogramas: \"))\n",
        "    resultado = kg_para_lb(kg)\n",
        "    print(f\"{kg} kg equivalem a {resultado:.2f} lb.\"),"
      ],
      "metadata": {
        "colab": {
          "base_uri": "https://localhost:8080/"
        },
        "id": "z_H-RgDcLXJk",
        "outputId": "48c9c3df-3918-4061-a2da-2ac3c57d12ca"
      },
      "execution_count": 60,
      "outputs": [
        {
          "output_type": "stream",
          "name": "stdout",
          "text": [
            "Escolha uma conversão:\n",
            "1 - Quilômetros (km) para Milhas (mi)\n",
            "2 - Celsius para Fahrenheit\n",
            "3 - Quilogramas (kg) para Libras (lb)\n",
            "Digite o número da sua opção: 1\n",
            "Digite o valor em quilômetros: 20\n",
            "20.0 km equivalem a 12.43 milhas.\n"
          ]
        }
      ]
    },
    {
      "cell_type": "code",
      "source": [],
      "metadata": {
        "colab": {
          "base_uri": "https://localhost:8080/",
          "height": 106
        },
        "id": "MW_Dc5M_LnE9",
        "outputId": "aa7655a8-18d5-464b-8562-2efec8211207"
      },
      "execution_count": 82,
      "outputs": [
        {
          "output_type": "error",
          "ename": "SyntaxError",
          "evalue": "invalid character '→' (U+2192) (ipython-input-82-2239795533.py, line 3)",
          "traceback": [
            "\u001b[0;36m  File \u001b[0;32m\"/tmp/ipython-input-82-2239795533.py\"\u001b[0;36m, line \u001b[0;32m3\u001b[0m\n\u001b[0;31m    True AND True → True\u001b[0m\n\u001b[0m                  ^\u001b[0m\n\u001b[0;31mSyntaxError\u001b[0m\u001b[0;31m:\u001b[0m invalid character '→' (U+2192)\n"
          ]
        }
      ]
    }
  ]
}