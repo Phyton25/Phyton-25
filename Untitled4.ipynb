{
  "nbformat": 4,
  "nbformat_minor": 0,
  "metadata": {
    "colab": {
      "provenance": [],
      "authorship_tag": "ABX9TyOYfKGqsQqYmiarxU+QQMaz",
      "include_colab_link": true
    },
    "kernelspec": {
      "name": "python3",
      "display_name": "Python 3"
    },
    "language_info": {
      "name": "python"
    }
  },
  "cells": [
    {
      "cell_type": "markdown",
      "metadata": {
        "id": "view-in-github",
        "colab_type": "text"
      },
      "source": [
        "<a href=\"https://colab.research.google.com/github/Phyton25/Phyton-25/blob/main/Untitled4.ipynb\" target=\"_parent\"><img src=\"https://colab.research.google.com/assets/colab-badge.svg\" alt=\"Open In Colab\"/></a>"
      ]
    },
    {
      "cell_type": "code",
      "execution_count": 5,
      "metadata": {
        "colab": {
          "base_uri": "https://localhost:8080/"
        },
        "id": "uD9-1SenQ-cl",
        "outputId": "924100f3-ab71-4987-db65-95d9fdc2fdc0"
      },
      "outputs": [
        {
          "output_type": "stream",
          "name": "stdout",
          "text": [
            "O salario ainda e R$ 1100\n",
            "O salario ainda e R$ 1200\n",
            "O salario ainda e R$ 1300\n",
            "O salario ainda e R$ 1400\n",
            "O salario ainda e R$ 1500\n",
            "O salario ainda e R$ 1600\n",
            "O salario ainda e R$ 1700\n",
            "O salario ainda e R$ 1800\n",
            "O salario ainda e R$ 1900\n",
            "O salario ainda e R$ 2000\n",
            "O salario ainda e R$ 2100\n",
            "O salario ainda e R$ 2200\n",
            "O salario ainda e R$ 2300\n",
            "O salario ainda e R$ 2400\n",
            "O salario ainda e R$ 2500\n",
            "O salario ainda e R$ 2600\n",
            "O salario ainda e R$ 2700\n",
            "O salario ainda e R$ 2800\n",
            "O salario ainda e R$ 2900\n",
            "O salario ainda e R$ 3000\n",
            "O salario ainda e R$ 3100\n",
            "O salario ainda e R$ 3200\n",
            "O salario ainda e R$ 3300\n",
            "O salario ainda e R$ 3400\n",
            "O salario ainda e R$ 3500\n",
            "O salario ainda e R$ 3600\n",
            "O salario ainda e R$ 3700\n",
            "O salario ainda e R$ 3800\n",
            "O salario ainda e R$ 3900\n",
            "O salario ainda e R$ 4000\n",
            "O salario ainda e R$ 4100\n",
            "O salario ainda e R$ 4200\n",
            "O salario ainda e R$ 4300\n",
            "O salario ainda e R$ 4400\n",
            "O salario ainda e R$ 4500\n",
            "O salario ainda e R$ 4600\n",
            "O salario ainda e R$ 4700\n",
            "O salario ainda e R$ 4800\n",
            "O salario ainda e R$ 4900\n",
            "O salario ainda e R$ 5000\n"
          ]
        }
      ],
      "source": [
        "salario = 1000\n",
        "\n",
        "while salario < 5000:\n",
        "  salario += 100\n",
        "  print(\"O salario ainda e R$\" ,salario)"
      ]
    },
    {
      "cell_type": "code",
      "source": [
        "numero = 1\n",
        "while numero <= 10:\n",
        " print(numero)\n",
        " numero += 1"
      ],
      "metadata": {
        "colab": {
          "base_uri": "https://localhost:8080/"
        },
        "id": "v6PpISZqSc0h",
        "outputId": "321f5dc1-b761-4357-b6ad-a5cb0247bc47"
      },
      "execution_count": 7,
      "outputs": [
        {
          "output_type": "stream",
          "name": "stdout",
          "text": [
            "1\n",
            "2\n",
            "3\n",
            "4\n",
            "5\n",
            "6\n",
            "7\n",
            "8\n",
            "9\n",
            "10\n"
          ]
        }
      ]
    },
    {
      "cell_type": "code",
      "source": [
        "numero = int(input(\"Digite um numero para contagem regressiva: \"))\n",
        "while numero >- 0:\n",
        "  print(numero)\n",
        "  numero -= 1"
      ],
      "metadata": {
        "colab": {
          "base_uri": "https://localhost:8080/"
        },
        "id": "u4yGrkXjTSti",
        "outputId": "9ad06353-cfb6-410e-9401-b2b1238a7a92"
      },
      "execution_count": 8,
      "outputs": [
        {
          "output_type": "stream",
          "name": "stdout",
          "text": [
            "Digite um numero para contagem regressiva: 10\n",
            "10\n",
            "9\n",
            "8\n",
            "7\n",
            "6\n",
            "5\n",
            "4\n",
            "3\n",
            "2\n",
            "1\n"
          ]
        }
      ]
    },
    {
      "cell_type": "code",
      "source": [
        "senha = input(\"Digite a senha: \")\n",
        "\n",
        "while senha != \"1234\":\n",
        "\n",
        "  print(\"senha incorreta. Tente novamente. \")\n",
        "  senha = input(\"Digite a senha:\")\n",
        "\n",
        "print(\"Acesoo liberado!\")"
      ],
      "metadata": {
        "colab": {
          "base_uri": "https://localhost:8080/"
        },
        "id": "oe9sfOLiUBwh",
        "outputId": "1a4ce1fe-b570-4f01-e114-544deea7add2"
      },
      "execution_count": 88,
      "outputs": [
        {
          "output_type": "stream",
          "name": "stdout",
          "text": [
            "Digite a senha: 1234\n",
            "Acesoo liberado!\n"
          ]
        }
      ]
    },
    {
      "cell_type": "code",
      "source": [
        "soma = 0\n",
        "\n",
        "numero = int(input(\"Digite um numero ou 0 para sair: \"))\n",
        "\n",
        "while numero !=0:\n",
        "  soma += numero\n",
        "  numero = int(input(\"Digite um numero ou 0para sair: \"))\n",
        "\n",
        "print(f\"Soma total: {soma}\")"
      ],
      "metadata": {
        "colab": {
          "base_uri": "https://localhost:8080/"
        },
        "id": "9nHDKZ3dVElC",
        "outputId": "e451aec9-6ebe-462a-d085-4c2cf417c8f7"
      },
      "execution_count": 12,
      "outputs": [
        {
          "output_type": "stream",
          "name": "stdout",
          "text": [
            "Digite um numero ou 0 para sair: 5\n",
            "Digite um numero ou 0para sair: 1\n",
            "Digite um numero ou 0para sair: 5\n",
            "Digite um numero ou 0para sair: 0\n",
            "Soma total: 11\n"
          ]
        }
      ]
    },
    {
      "cell_type": "code",
      "source": [
        "numero = int(input(\"Digite um numero positivo: \"))\n",
        "while numero <  0:\n",
        "  print(\"Numero invalido. Tente novamente.\")\n",
        "  numero = int(input(\"Digite um numero positivo: \"))\n",
        "\n",
        "tabuada = 1\n",
        "while tabuada <= 10:\n",
        "    resultado = numero * tabuada\n",
        "    print(f\"{numero} x {tabuada} = {resultado}\")\n",
        "    tabuada += 1\n",
        ""
      ],
      "metadata": {
        "colab": {
          "base_uri": "https://localhost:8080/"
        },
        "id": "yQ67D_R4V3KZ",
        "outputId": "5fcf81ef-00b5-47c3-ee2a-9b29c0b99ca9"
      },
      "execution_count": 27,
      "outputs": [
        {
          "output_type": "stream",
          "name": "stdout",
          "text": [
            "Digite um numero positivo: 6\n",
            "6 x 1 = 6\n",
            "6 x 2 = 12\n",
            "6 x 3 = 18\n",
            "6 x 4 = 24\n",
            "6 x 5 = 30\n",
            "6 x 6 = 36\n",
            "6 x 7 = 42\n",
            "6 x 8 = 48\n",
            "6 x 9 = 54\n",
            "6 x 10 = 60\n"
          ]
        }
      ]
    },
    {
      "cell_type": "code",
      "source": [
        "\n",
        "\n",
        "import random\n",
        "\n",
        "secreto = random.randint(1,10)\n",
        "palpite = int(input(\"Tente adivinhar o numero entre 1 a 10: \"))\n",
        "\n",
        "while palpite != secreto:\n",
        "  print(\"Errado! Tente novamente.\")\n",
        "  palpite = int(input(\"Tente Adivinhar: \"))\n",
        "\n",
        "  print(\"Parabens!! Voce acertou!!\")"
      ],
      "metadata": {
        "colab": {
          "base_uri": "https://localhost:8080/"
        },
        "id": "Es82MIPNXsdJ",
        "outputId": "981850bf-ecbd-4772-b1dd-69b9a18436ca"
      },
      "execution_count": 67,
      "outputs": [
        {
          "output_type": "stream",
          "name": "stdout",
          "text": [
            "Tente adivinhar o numero entre 1 a 10: 5\n",
            "Errado! Tente novamente.\n",
            "Tente Adivinhar: 9\n",
            "Parabens!! Voce acertou!!\n",
            "Errado! Tente novamente.\n",
            "Tente Adivinhar: 8\n",
            "Parabens!! Voce acertou!!\n",
            "Errado! Tente novamente.\n",
            "Tente Adivinhar: 6\n",
            "Parabens!! Voce acertou!!\n"
          ]
        }
      ]
    },
    {
      "cell_type": "code",
      "source": [
        "numero = int(input(\"Digite um numero:\"))\n",
        "contador = 0\n",
        "\n",
        "while contador <= numero:\n",
        "  if  contador % 2 == 0:\n",
        "    print(contador)\n",
        "    contador += 1."
      ],
      "metadata": {
        "colab": {
          "base_uri": "https://localhost:8080/"
        },
        "id": "03TLY5stcN_6",
        "outputId": "7361e69c-c68f-463d-afc8-a26d9f5d9320"
      },
      "execution_count": null,
      "outputs": [
        {
          "output_type": "stream",
          "name": "stdout",
          "text": [
            "Digite um numero:462\n",
            "0\n"
          ]
        }
      ]
    },
    {
      "cell_type": "code",
      "source": [
        "saque = float(input(\"Digite o valor do saque (0 para sair): \"))\n",
        "\n",
        "while saque != 0:\n",
        "  if saque > 0:\n",
        "    print(f\"Saque de R${saque: .2f} realizado.\")\n",
        "    ]else:\n",
        "    print(\"valor invalido\")\n",
        "    saque = float(input(\"Digite \"))"
      ],
      "metadata": {
        "id": "thKgTvBnfoY8"
      },
      "execution_count": null,
      "outputs": []
    },
    {
      "cell_type": "code",
      "source": [
        "maiores = 0\n",
        "idade = int(input(\"Digite uma idade (numero negativo para sair): \"))\n",
        "\n",
        "while idade >= 0:\n",
        "  if idade >= 18:\n",
        "    idade = int(input(\"Digite\"))"
      ],
      "metadata": {
        "colab": {
          "base_uri": "https://localhost:8080/"
        },
        "id": "YyaYqgOkgvRq",
        "outputId": "28079d48-0c79-4ceb-f92f-b9e6f5ca93f1"
      },
      "execution_count": null,
      "outputs": [
        {
          "name": "stdout",
          "output_type": "stream",
          "text": [
            "Digite uma idade (numero negativo para sair): 7\n"
          ]
        }
      ]
    },
    {
      "cell_type": "markdown",
      "source": [
        "Atividade While"
      ],
      "metadata": {
        "id": "LSkyMj_dvQmk"
      }
    },
    {
      "cell_type": "code",
      "source": [
        "while True:\n",
        "    nota = float(input(\"Digite uma nota entre 0 e 10: \"))\n",
        "\n",
        "    if 0 <= nota <= 10:\n",
        "        print(f\"Nota válida: {nota}\")\n",
        "        break\n",
        "    else:\n",
        "        print(\"Valor inválido. Tente novamente.\")\n",
        "\n"
      ],
      "metadata": {
        "colab": {
          "base_uri": "https://localhost:8080/"
        },
        "id": "kwo1p7DGu4S9",
        "outputId": "048b0ded-3fdc-4550-db10-4ad1c391848c"
      },
      "execution_count": 94,
      "outputs": [
        {
          "output_type": "stream",
          "name": "stdout",
          "text": [
            "Digite uma nota entre 0 e 10: 5\n",
            "Nota válida: 5.0\n"
          ]
        }
      ]
    },
    {
      "cell_type": "code",
      "source": [
        "soma = 0\n",
        "for i in range(n):\n",
        "nota = float(input(f\"Digita a nota {i + 1}: \"))\n",
        "soma += nota\n",
        "media = soma /n\n",
        " print(f\"\\nA media aritimedica das {n} notas e: {media: .2f}\")\n"
      ],
      "metadata": {
        "id": "mUH9TSy2xAwk"
      },
      "execution_count": null,
      "outputs": []
    },
    {
      "cell_type": "code",
      "source": [
        "while True:\n",
        "    usuario = input(\"Digite o nome de usuário: \")\n",
        "    senha = input(\"Digite a senha: \")\n",
        "\n",
        "    if senha == usuario:\n",
        "        print(\"Erro: a senha não pode ser igual ao nome de usuário. Tente novamente.\\n\")\n",
        "    else:\n",
        "        print(\"Usuário e senha cadastrados com sucesso!\")\n",
        "        break"
      ],
      "metadata": {
        "colab": {
          "base_uri": "https://localhost:8080/"
        },
        "id": "ejiK1jnh6Wsu",
        "outputId": "899356c8-3acd-4b8e-eb99-dc574f42b024"
      },
      "execution_count": 1,
      "outputs": [
        {
          "output_type": "stream",
          "name": "stdout",
          "text": [
            "Digite o nome de usuário: brail\n",
            "Digite a senha: 1234\n",
            "Usuário e senha cadastrados com sucesso!\n"
          ]
        }
      ]
    },
    {
      "cell_type": "code",
      "source": [
        "salario_inicial = 1000.00\n",
        "ano_inicio = 1995\n",
        "ano_atual = 202\n",
        "\n",
        "salario = salario_inicial * (1 + 1.5 / 100)\n",
        "\n",
        "percentual_aumento = 1.5\n",
        "\n",
        "for ano in range(1997, ano_atual + 1):\n",
        "    percentual_aumento *= 2  # O aumento dobra a cada ano\n",
        "    salario *= (1 + percentual_aumento / 100)\n",
        "    print(f\"O salário atual do funcionário é: R$ {salario:.2f}\")"
      ],
      "metadata": {
        "id": "B5jtCOiPT2DP"
      },
      "execution_count": 6,
      "outputs": []
    },
    {
      "cell_type": "code",
      "source": [
        "while true:\n",
        "  nome = input(\"nome: \")\n",
        "  if len(nome) <= 3:\n",
        "    print(\"nome deve ter mais que 3 letras.\")\n",
        "    continue\n",
        "\n",
        "    salario = float(input(\"salario: \"))\n",
        "    if salario <= 0:\n",
        "      print(\"salario invalido.\")\n",
        "      continue\n",
        "\n",
        "      sexo = input(\"sexo (f/m):\").lower()\n",
        "      if sexo not in [\"f\" \"m\"]:\n",
        "        print(sexo)\n"
      ],
      "metadata": {
        "id": "mfULTUjdVIoP"
      },
      "execution_count": null,
      "outputs": []
    },
    {
      "cell_type": "code",
      "source": [
        "pop_a = 80000\n",
        "pop_b = 20000\n"
      ],
      "metadata": {
        "id": "c8q_gOyY5hpz"
      },
      "execution_count": null,
      "outputs": []
    }
  ]
}